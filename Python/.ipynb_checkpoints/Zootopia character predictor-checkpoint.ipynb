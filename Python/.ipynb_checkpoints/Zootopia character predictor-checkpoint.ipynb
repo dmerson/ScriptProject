{
 "cells": [
  {
   "cell_type": "markdown",
   "metadata": {},
   "source": [
    "Read in character dialgoue file and look at columns."
   ]
  },
  {
   "cell_type": "code",
   "execution_count": 16,
   "metadata": {},
   "outputs": [
    {
     "data": {
      "text/html": [
       "<div>\n",
       "<style>\n",
       "    .dataframe thead tr:only-child th {\n",
       "        text-align: right;\n",
       "    }\n",
       "\n",
       "    .dataframe thead th {\n",
       "        text-align: left;\n",
       "    }\n",
       "\n",
       "    .dataframe tbody tr th {\n",
       "        vertical-align: top;\n",
       "    }\n",
       "</style>\n",
       "<table border=\"1\" class=\"dataframe\">\n",
       "  <thead>\n",
       "    <tr style=\"text-align: right;\">\n",
       "      <th></th>\n",
       "      <th>Unnamed: 0</th>\n",
       "      <th>current_character</th>\n",
       "      <th>current_dialogue</th>\n",
       "    </tr>\n",
       "  </thead>\n",
       "  <tbody>\n",
       "    <tr>\n",
       "      <th>0</th>\n",
       "      <td>1</td>\n",
       "      <td>FITZGERALD</td>\n",
       "      <td>Likely got a splinter. Can't figure what to do...</td>\n",
       "    </tr>\n",
       "    <tr>\n",
       "      <th>1</th>\n",
       "      <td>2</td>\n",
       "      <td>BOONE</td>\n",
       "      <td>Need a doc, Captain?</td>\n",
       "    </tr>\n",
       "    <tr>\n",
       "      <th>2</th>\n",
       "      <td>3</td>\n",
       "      <td>HENRY</td>\n",
       "      <td>Gather more wood.</td>\n",
       "    </tr>\n",
       "    <tr>\n",
       "      <th>3</th>\n",
       "      <td>4</td>\n",
       "      <td>FITZGERALD</td>\n",
       "      <td>Shame my Pap was a broken down drunk. Else he ...</td>\n",
       "    </tr>\n",
       "    <tr>\n",
       "      <th>4</th>\n",
       "      <td>5</td>\n",
       "      <td>FITZGERALD</td>\n",
       "      <td>We got a plan for these fires, Captain, or are...</td>\n",
       "    </tr>\n",
       "  </tbody>\n",
       "</table>\n",
       "</div>"
      ],
      "text/plain": [
       "   Unnamed: 0                      current_character  \\\n",
       "0           1                             FITZGERALD   \n",
       "1           2                                  BOONE   \n",
       "2           3                                  HENRY   \n",
       "3           4                             FITZGERALD   \n",
       "4           5                            FITZGERALD    \n",
       "\n",
       "                                    current_dialogue  \n",
       "0  Likely got a splinter. Can't figure what to do...  \n",
       "1                               Need a doc, Captain?  \n",
       "2                                  Gather more wood.  \n",
       "3  Shame my Pap was a broken down drunk. Else he ...  \n",
       "4  We got a plan for these fires, Captain, or are...  "
      ]
     },
     "execution_count": 16,
     "metadata": {},
     "output_type": "execute_result"
    }
   ],
   "source": [
    "#https://towardsdatascience.com/multi-class-text-classification-with-scikit-learn-12f1e60e0a9f\n",
    "import pandas as pd\n",
    "df = pd.read_csv('rev_dialogue.csv' )\n",
    "df.head()"
   ]
  },
  {
   "cell_type": "markdown",
   "metadata": {},
   "source": [
    "Set only necessary columns from file."
   ]
  },
  {
   "cell_type": "code",
   "execution_count": 17,
   "metadata": {},
   "outputs": [
    {
     "data": {
      "text/html": [
       "<div>\n",
       "<style>\n",
       "    .dataframe thead tr:only-child th {\n",
       "        text-align: right;\n",
       "    }\n",
       "\n",
       "    .dataframe thead th {\n",
       "        text-align: left;\n",
       "    }\n",
       "\n",
       "    .dataframe tbody tr th {\n",
       "        vertical-align: top;\n",
       "    }\n",
       "</style>\n",
       "<table border=\"1\" class=\"dataframe\">\n",
       "  <thead>\n",
       "    <tr style=\"text-align: right;\">\n",
       "      <th></th>\n",
       "      <th>current_character</th>\n",
       "      <th>current_dialogue</th>\n",
       "    </tr>\n",
       "  </thead>\n",
       "  <tbody>\n",
       "    <tr>\n",
       "      <th>0</th>\n",
       "      <td>FITZGERALD</td>\n",
       "      <td>Likely got a splinter. Can't figure what to do...</td>\n",
       "    </tr>\n",
       "    <tr>\n",
       "      <th>1</th>\n",
       "      <td>BOONE</td>\n",
       "      <td>Need a doc, Captain?</td>\n",
       "    </tr>\n",
       "    <tr>\n",
       "      <th>2</th>\n",
       "      <td>HENRY</td>\n",
       "      <td>Gather more wood.</td>\n",
       "    </tr>\n",
       "    <tr>\n",
       "      <th>3</th>\n",
       "      <td>FITZGERALD</td>\n",
       "      <td>Shame my Pap was a broken down drunk. Else he ...</td>\n",
       "    </tr>\n",
       "    <tr>\n",
       "      <th>4</th>\n",
       "      <td>FITZGERALD</td>\n",
       "      <td>We got a plan for these fires, Captain, or are...</td>\n",
       "    </tr>\n",
       "  </tbody>\n",
       "</table>\n",
       "</div>"
      ],
      "text/plain": [
       "                       current_character  \\\n",
       "0                             FITZGERALD   \n",
       "1                                  BOONE   \n",
       "2                                  HENRY   \n",
       "3                             FITZGERALD   \n",
       "4                            FITZGERALD    \n",
       "\n",
       "                                    current_dialogue  \n",
       "0  Likely got a splinter. Can't figure what to do...  \n",
       "1                               Need a doc, Captain?  \n",
       "2                                  Gather more wood.  \n",
       "3  Shame my Pap was a broken down drunk. Else he ...  \n",
       "4  We got a plan for these fires, Captain, or are...  "
      ]
     },
     "execution_count": 17,
     "metadata": {},
     "output_type": "execute_result"
    }
   ],
   "source": [
    "from io import StringIO\n",
    "col=['current_character','current_dialogue']\n",
    "df=df[col]\n",
    "df.head()"
   ]
  },
  {
   "cell_type": "markdown",
   "metadata": {},
   "source": [
    "Remove any null values and trim away whitespace issues."
   ]
  },
  {
   "cell_type": "code",
   "execution_count": 18,
   "metadata": {},
   "outputs": [
    {
     "data": {
      "text/html": [
       "<div>\n",
       "<style>\n",
       "    .dataframe thead tr:only-child th {\n",
       "        text-align: right;\n",
       "    }\n",
       "\n",
       "    .dataframe thead th {\n",
       "        text-align: left;\n",
       "    }\n",
       "\n",
       "    .dataframe tbody tr th {\n",
       "        vertical-align: top;\n",
       "    }\n",
       "</style>\n",
       "<table border=\"1\" class=\"dataframe\">\n",
       "  <thead>\n",
       "    <tr style=\"text-align: right;\">\n",
       "      <th></th>\n",
       "      <th>current_character</th>\n",
       "      <th>current_dialogue</th>\n",
       "    </tr>\n",
       "  </thead>\n",
       "  <tbody>\n",
       "    <tr>\n",
       "      <th>0</th>\n",
       "      <td>FITZGERALD</td>\n",
       "      <td>Likely got a splinter. Can't figure what to do...</td>\n",
       "    </tr>\n",
       "    <tr>\n",
       "      <th>1</th>\n",
       "      <td>BOONE</td>\n",
       "      <td>Need a doc, Captain?</td>\n",
       "    </tr>\n",
       "    <tr>\n",
       "      <th>2</th>\n",
       "      <td>HENRY</td>\n",
       "      <td>Gather more wood.</td>\n",
       "    </tr>\n",
       "    <tr>\n",
       "      <th>3</th>\n",
       "      <td>FITZGERALD</td>\n",
       "      <td>Shame my Pap was a broken down drunk. Else he ...</td>\n",
       "    </tr>\n",
       "    <tr>\n",
       "      <th>4</th>\n",
       "      <td>FITZGERALD</td>\n",
       "      <td>We got a plan for these fires, Captain, or are...</td>\n",
       "    </tr>\n",
       "  </tbody>\n",
       "</table>\n",
       "</div>"
      ],
      "text/plain": [
       "  current_character                                   current_dialogue\n",
       "0        FITZGERALD  Likely got a splinter. Can't figure what to do...\n",
       "1             BOONE                               Need a doc, Captain?\n",
       "2             HENRY                                  Gather more wood.\n",
       "3        FITZGERALD  Shame my Pap was a broken down drunk. Else he ...\n",
       "4        FITZGERALD  We got a plan for these fires, Captain, or are..."
      ]
     },
     "execution_count": 18,
     "metadata": {},
     "output_type": "execute_result"
    }
   ],
   "source": [
    "df=df[pd.notnull(df[\"current_character\"])]\n",
    "df=df[pd.notnull(df[\"current_dialogue\"])]\n",
    "df[\"current_character\"]=df[\"current_character\"].str.strip()\n",
    "df[\"current_dialogue\"]=df[\"current_dialogue\"].str.strip()\n",
    "df.head()"
   ]
  },
  {
   "cell_type": "markdown",
   "metadata": {},
   "source": [
    "Factorize the target column"
   ]
  },
  {
   "cell_type": "code",
   "execution_count": 19,
   "metadata": {},
   "outputs": [
    {
     "data": {
      "text/html": [
       "<div>\n",
       "<style>\n",
       "    .dataframe thead tr:only-child th {\n",
       "        text-align: right;\n",
       "    }\n",
       "\n",
       "    .dataframe thead th {\n",
       "        text-align: left;\n",
       "    }\n",
       "\n",
       "    .dataframe tbody tr th {\n",
       "        vertical-align: top;\n",
       "    }\n",
       "</style>\n",
       "<table border=\"1\" class=\"dataframe\">\n",
       "  <thead>\n",
       "    <tr style=\"text-align: right;\">\n",
       "      <th></th>\n",
       "      <th>current_character</th>\n",
       "      <th>current_dialogue</th>\n",
       "      <th>category_id</th>\n",
       "    </tr>\n",
       "  </thead>\n",
       "  <tbody>\n",
       "    <tr>\n",
       "      <th>0</th>\n",
       "      <td>FITZGERALD</td>\n",
       "      <td>Likely got a splinter. Can't figure what to do...</td>\n",
       "      <td>0</td>\n",
       "    </tr>\n",
       "    <tr>\n",
       "      <th>1</th>\n",
       "      <td>BOONE</td>\n",
       "      <td>Need a doc, Captain?</td>\n",
       "      <td>1</td>\n",
       "    </tr>\n",
       "    <tr>\n",
       "      <th>2</th>\n",
       "      <td>HENRY</td>\n",
       "      <td>Gather more wood.</td>\n",
       "      <td>2</td>\n",
       "    </tr>\n",
       "    <tr>\n",
       "      <th>3</th>\n",
       "      <td>FITZGERALD</td>\n",
       "      <td>Shame my Pap was a broken down drunk. Else he ...</td>\n",
       "      <td>0</td>\n",
       "    </tr>\n",
       "    <tr>\n",
       "      <th>4</th>\n",
       "      <td>FITZGERALD</td>\n",
       "      <td>We got a plan for these fires, Captain, or are...</td>\n",
       "      <td>0</td>\n",
       "    </tr>\n",
       "    <tr>\n",
       "      <th>5</th>\n",
       "      <td>HENRY</td>\n",
       "      <td>Glass and the others will be back with some ga...</td>\n",
       "      <td>2</td>\n",
       "    </tr>\n",
       "    <tr>\n",
       "      <th>6</th>\n",
       "      <td>FITZGERALD</td>\n",
       "      <td>My supper's in the hands of a hermit nigger, a...</td>\n",
       "      <td>0</td>\n",
       "    </tr>\n",
       "    <tr>\n",
       "      <th>7</th>\n",
       "      <td>VOICE</td>\n",
       "      <td>Shit fire, you got him, Mr. Glass!</td>\n",
       "      <td>3</td>\n",
       "    </tr>\n",
       "    <tr>\n",
       "      <th>8</th>\n",
       "      <td>PIG</td>\n",
       "      <td>Square as a barn door.</td>\n",
       "      <td>4</td>\n",
       "    </tr>\n",
       "    <tr>\n",
       "      <th>9</th>\n",
       "      <td>PIG</td>\n",
       "      <td>Right where you said he'd be.</td>\n",
       "      <td>4</td>\n",
       "    </tr>\n",
       "  </tbody>\n",
       "</table>\n",
       "</div>"
      ],
      "text/plain": [
       "  current_character                                   current_dialogue  \\\n",
       "0        FITZGERALD  Likely got a splinter. Can't figure what to do...   \n",
       "1             BOONE                               Need a doc, Captain?   \n",
       "2             HENRY                                  Gather more wood.   \n",
       "3        FITZGERALD  Shame my Pap was a broken down drunk. Else he ...   \n",
       "4        FITZGERALD  We got a plan for these fires, Captain, or are...   \n",
       "5             HENRY  Glass and the others will be back with some ga...   \n",
       "6        FITZGERALD  My supper's in the hands of a hermit nigger, a...   \n",
       "7             VOICE                 Shit fire, you got him, Mr. Glass!   \n",
       "8               PIG                             Square as a barn door.   \n",
       "9               PIG                      Right where you said he'd be.   \n",
       "\n",
       "   category_id  \n",
       "0            0  \n",
       "1            1  \n",
       "2            2  \n",
       "3            0  \n",
       "4            0  \n",
       "5            2  \n",
       "6            0  \n",
       "7            3  \n",
       "8            4  \n",
       "9            4  "
      ]
     },
     "execution_count": 19,
     "metadata": {},
     "output_type": "execute_result"
    }
   ],
   "source": [
    "df['category_id'] = df['current_character'].factorize()[0]\n",
    "df.head(10)"
   ]
  },
  {
   "cell_type": "markdown",
   "metadata": {},
   "source": [
    "Create a lookup table (category id)"
   ]
  },
  {
   "cell_type": "code",
   "execution_count": 20,
   "metadata": {},
   "outputs": [
    {
     "data": {
      "text/html": [
       "<div>\n",
       "<style>\n",
       "    .dataframe thead tr:only-child th {\n",
       "        text-align: right;\n",
       "    }\n",
       "\n",
       "    .dataframe thead th {\n",
       "        text-align: left;\n",
       "    }\n",
       "\n",
       "    .dataframe tbody tr th {\n",
       "        vertical-align: top;\n",
       "    }\n",
       "</style>\n",
       "<table border=\"1\" class=\"dataframe\">\n",
       "  <thead>\n",
       "    <tr style=\"text-align: right;\">\n",
       "      <th></th>\n",
       "      <th>current_character</th>\n",
       "      <th>category_id</th>\n",
       "    </tr>\n",
       "  </thead>\n",
       "  <tbody>\n",
       "    <tr>\n",
       "      <th>0</th>\n",
       "      <td>FITZGERALD</td>\n",
       "      <td>0</td>\n",
       "    </tr>\n",
       "    <tr>\n",
       "      <th>1</th>\n",
       "      <td>BOONE</td>\n",
       "      <td>1</td>\n",
       "    </tr>\n",
       "    <tr>\n",
       "      <th>2</th>\n",
       "      <td>HENRY</td>\n",
       "      <td>2</td>\n",
       "    </tr>\n",
       "    <tr>\n",
       "      <th>7</th>\n",
       "      <td>VOICE</td>\n",
       "      <td>3</td>\n",
       "    </tr>\n",
       "    <tr>\n",
       "      <th>8</th>\n",
       "      <td>PIG</td>\n",
       "      <td>4</td>\n",
       "    </tr>\n",
       "  </tbody>\n",
       "</table>\n",
       "</div>"
      ],
      "text/plain": [
       "  current_character  category_id\n",
       "0        FITZGERALD            0\n",
       "1             BOONE            1\n",
       "2             HENRY            2\n",
       "7             VOICE            3\n",
       "8               PIG            4"
      ]
     },
     "execution_count": 20,
     "metadata": {},
     "output_type": "execute_result"
    }
   ],
   "source": [
    "category_id_df = df[['current_character', 'category_id']].drop_duplicates().sort_values('category_id')\n",
    "category_id_df.head()"
   ]
  },
  {
   "cell_type": "markdown",
   "metadata": {},
   "source": [
    "Create dictionaries for category"
   ]
  },
  {
   "cell_type": "code",
   "execution_count": 23,
   "metadata": {},
   "outputs": [
    {
     "data": {
      "text/plain": [
       "{0: 'FITZGERALD',\n",
       " 1: 'BOONE',\n",
       " 2: 'HENRY',\n",
       " 3: 'VOICE',\n",
       " 4: 'PIG',\n",
       " 5: 'BRIDGER',\n",
       " 6: 'GLASS',\n",
       " 7: 'TRAPPER',\n",
       " 8: 'ANDERSON',\n",
       " 9: 'STUBBY BILL',\n",
       " 10: 'MURPHY',\n",
       " 11: 'ANSWER ME OR I BLOW YOUR DAMN HEAD',\n",
       " 12: 'SPOTTED HORSE',\n",
       " 13: \"LEATHER STRAPS SNAPPING AROUND GLASS' WRISTS AND ANKLES...\",\n",
       " 14: 'BOYS',\n",
       " 15: 'RED HAWK',\n",
       " 16: 'THREE FEATHERS',\n",
       " 17: 'BRAZEAU',\n",
       " 18: 'RUNTY MAN',\n",
       " 19: 'TRAPPER #2',\n",
       " 20: 'FAT TRAPPER',\n",
       " 21: 'TRAPPER #1'}"
      ]
     },
     "execution_count": 23,
     "metadata": {},
     "output_type": "execute_result"
    }
   ],
   "source": [
    "category_to_id = dict(category_id_df.values)\n",
    "id_to_category = dict(category_id_df[['category_id', 'current_character']].values)\n",
    "category_to_id\n",
    "id_to_category"
   ]
  },
  {
   "cell_type": "markdown",
   "metadata": {},
   "source": [
    "Show a picture of number of categories"
   ]
  },
  {
   "cell_type": "code",
   "execution_count": 24,
   "metadata": {},
   "outputs": [
    {
     "data": {
      "image/png": "[encoded data removed]",
      "text/plain": [
       "<matplotlib.figure.Figure at 0x1f50ec1ae80>"
      ]
     },
     "metadata": {},
     "output_type": "display_data"
    }
   ],
   "source": [
    "import matplotlib.pyplot as plt\n",
    "fig = plt.figure(figsize=(8,6))\n",
    "df.groupby('current_character').current_dialogue.count().plot.bar(ylim=0)\n",
    "plt.show()"
   ]
  },
  {
   "cell_type": "markdown",
   "metadata": {},
   "source": [
    "Calculate a tdidf frequency for dialogue"
   ]
  },
  {
   "cell_type": "code",
   "execution_count": 25,
   "metadata": {},
   "outputs": [
    {
     "data": {
      "text/plain": [
       "(460, 89)"
      ]
     },
     "execution_count": 25,
     "metadata": {},
     "output_type": "execute_result"
    }
   ],
   "source": [
    "from sklearn.feature_extraction.text import TfidfVectorizer\n",
    "tfidf = TfidfVectorizer(sublinear_tf=True, min_df=5, norm='l2', encoding='latin-1', ngram_range=(1, 2), stop_words='english')\n",
    "features = tfidf.fit_transform(df.current_dialogue).toarray()\n",
    "labels = df.category_id\n",
    "features.shape"
   ]
  },
  {
   "cell_type": "code",
   "execution_count": 26,
   "metadata": {},
   "outputs": [
    {
     "name": "stdout",
     "output_type": "stream",
     "text": [
      "# 'ANDERSON':\n",
      "  . Most correlated unigrams:\n",
      ". jesus\n",
      ". come\n",
      "  . Most correlated bigrams:\n",
      ". tatanka wicasa\n",
      ". fort union\n",
      "# 'ANSWER ME OR I BLOW YOUR DAMN HEAD':\n",
      "  . Most correlated unigrams:\n",
      ". glass\n",
      ". ll\n",
      "  . Most correlated bigrams:\n",
      ". tatanka wicasa\n",
      ". fort union\n",
      "# 'BOONE':\n",
      "  . Most correlated unigrams:\n",
      ". shit\n",
      ". gather\n",
      "  . Most correlated bigrams:\n",
      ". tatanka wicasa\n",
      ". fort union\n",
      "# 'BOYS':\n",
      "  . Most correlated unigrams:\n",
      ". wicasa\n",
      ". tatanka\n",
      "  . Most correlated bigrams:\n",
      ". fort union\n",
      ". tatanka wicasa\n",
      "# 'BRAZEAU':\n",
      "  . Most correlated unigrams:\n",
      ". glass\n",
      ". like\n",
      "  . Most correlated bigrams:\n",
      ". tatanka wicasa\n",
      ". fort union\n",
      "# 'BRIDGER':\n",
      "  . Most correlated unigrams:\n",
      ". gonna\n",
      ". goin\n",
      "  . Most correlated bigrams:\n",
      ". tatanka wicasa\n",
      ". fort union\n",
      "# 'FAT TRAPPER':\n",
      "  . Most correlated unigrams:\n",
      ". boy\n",
      ". hell\n",
      "  . Most correlated bigrams:\n",
      ". fort union\n",
      ". rocky mountain\n",
      "# 'FITZGERALD':\n",
      "  . Most correlated unigrams:\n",
      ". don\n",
      ". kid\n",
      "  . Most correlated bigrams:\n",
      ". fort union\n",
      ". tatanka wicasa\n",
      "# 'GLASS':\n",
      "  . Most correlated unigrams:\n",
      ". horse\n",
      ". thank\n",
      "  . Most correlated bigrams:\n",
      ". mountain fur\n",
      ". fort union\n",
      "# 'HENRY':\n",
      "  . Most correlated unigrams:\n",
      ". gather\n",
      ". fitzgerald\n",
      "  . Most correlated bigrams:\n",
      ". fort union\n",
      ". tatanka wicasa\n",
      "# 'LEATHER STRAPS SNAPPING AROUND GLASS' WRISTS AND ANKLES...':\n",
      "  . Most correlated unigrams:\n",
      ". glass\n",
      ". ll\n",
      "  . Most correlated bigrams:\n",
      ". tatanka wicasa\n",
      ". fort union\n",
      "# 'MURPHY':\n",
      "  . Most correlated unigrams:\n",
      ". did\n",
      ". headed\n",
      "  . Most correlated bigrams:\n",
      ". tatanka wicasa\n",
      ". fort union\n",
      "# 'PIG':\n",
      "  . Most correlated unigrams:\n",
      ". ya\n",
      ". hugh\n",
      "  . Most correlated bigrams:\n",
      ". fort union\n",
      ". tatanka wicasa\n",
      "# 'RED HAWK':\n",
      "  . Most correlated unigrams:\n",
      ". ll\n",
      ". arikara\n",
      "  . Most correlated bigrams:\n",
      ". tatanka wicasa\n",
      ". fort union\n",
      "# 'RUNTY MAN':\n",
      "  . Most correlated unigrams:\n",
      ". ain\n",
      ". bout\n",
      "  . Most correlated bigrams:\n",
      ". tatanka wicasa\n",
      ". fort union\n",
      "# 'SPOTTED HORSE':\n",
      "  . Most correlated unigrams:\n",
      ". man\n",
      ". whites\n",
      "  . Most correlated bigrams:\n",
      ". tatanka wicasa\n",
      ". fort union\n",
      "# 'STUBBY BILL':\n",
      "  . Most correlated unigrams:\n",
      ". kid\n",
      ". christ\n",
      "  . Most correlated bigrams:\n",
      ". tatanka wicasa\n",
      ". fort union\n",
      "# 'THREE FEATHERS':\n",
      "  . Most correlated unigrams:\n",
      ". wicasa\n",
      ". tatanka\n",
      "  . Most correlated bigrams:\n",
      ". fort union\n",
      ". tatanka wicasa\n",
      "# 'TRAPPER':\n",
      "  . Most correlated unigrams:\n",
      ". ain\n",
      ". wait\n",
      "  . Most correlated bigrams:\n",
      ". tatanka wicasa\n",
      ". fort union\n",
      "# 'TRAPPER #1':\n",
      "  . Most correlated unigrams:\n",
      ". don\n",
      ". got\n",
      "  . Most correlated bigrams:\n",
      ". tatanka wicasa\n",
      ". fort union\n",
      "# 'TRAPPER #2':\n",
      "  . Most correlated unigrams:\n",
      ". clear\n",
      ". hell\n",
      "  . Most correlated bigrams:\n",
      ". tatanka wicasa\n",
      ". fort union\n",
      "# 'VOICE':\n",
      "  . Most correlated unigrams:\n",
      ". shit\n",
      ". mr\n",
      "  . Most correlated bigrams:\n",
      ". tatanka wicasa\n",
      ". fort union\n"
     ]
    }
   ],
   "source": [
    "from sklearn.feature_selection import chi2\n",
    "import numpy as np\n",
    "N = 2\n",
    "for current_character, category_id in sorted(category_to_id.items()):\n",
    "    features_chi2 = chi2(features, labels == category_id)\n",
    "    indices = np.argsort(features_chi2[0])\n",
    "    feature_names = np.array(tfidf.get_feature_names())[indices]\n",
    "    unigrams = [v for v in feature_names if len(v.split(' ')) == 1]\n",
    "    bigrams = [v for v in feature_names if len(v.split(' ')) == 2]\n",
    "    print(\"# '{}':\".format(current_character))\n",
    "    print(\"  . Most correlated unigrams:\\n. {}\".format('\\n. '.join(unigrams[-N:])))\n",
    "    print(\"  . Most correlated bigrams:\\n. {}\".format('\\n. '.join(bigrams[-N:])))"
   ]
  },
  {
   "cell_type": "code",
   "execution_count": 27,
   "metadata": {
    "collapsed": true
   },
   "outputs": [],
   "source": [
    "from sklearn.model_selection import train_test_split\n",
    "from sklearn.feature_extraction.text import CountVectorizer\n",
    "from sklearn.feature_extraction.text import TfidfTransformer\n",
    "from sklearn.naive_bayes import MultinomialNB\n",
    "X_train, X_test, y_train, y_test = train_test_split(df['current_dialogue'], df['current_character'], random_state = 0)\n",
    "count_vect = CountVectorizer()\n",
    "X_train_counts = count_vect.fit_transform(X_train)\n",
    "tfidf_transformer = TfidfTransformer()\n",
    "X_train_tfidf = tfidf_transformer.fit_transform(X_train_counts)\n",
    "clf = MultinomialNB().fit(X_train_tfidf, y_train)"
   ]
  },
  {
   "cell_type": "code",
   "execution_count": 28,
   "metadata": {},
   "outputs": [
    {
     "name": "stderr",
     "output_type": "stream",
     "text": [
      "C:\\ProgramData\\Anaconda3\\envs\\tf35\\lib\\site-packages\\sklearn\\model_selection\\_split.py:581: Warning: The least populated class in y has only 1 members, which is too few. The minimum number of groups for any class cannot be less than n_splits=5.\n",
      "  % (min_groups, self.n_splits)), Warning)\n",
      "C:\\ProgramData\\Anaconda3\\envs\\tf35\\lib\\site-packages\\sklearn\\model_selection\\_split.py:581: Warning: The least populated class in y has only 1 members, which is too few. The minimum number of groups for any class cannot be less than n_splits=5.\n",
      "  % (min_groups, self.n_splits)), Warning)\n",
      "C:\\ProgramData\\Anaconda3\\envs\\tf35\\lib\\site-packages\\sklearn\\model_selection\\_split.py:581: Warning: The least populated class in y has only 1 members, which is too few. The minimum number of groups for any class cannot be less than n_splits=5.\n",
      "  % (min_groups, self.n_splits)), Warning)\n",
      "C:\\ProgramData\\Anaconda3\\envs\\tf35\\lib\\site-packages\\sklearn\\model_selection\\_split.py:581: Warning: The least populated class in y has only 1 members, which is too few. The minimum number of groups for any class cannot be less than n_splits=5.\n",
      "  % (min_groups, self.n_splits)), Warning)\n"
     ]
    },
    {
     "data": {
      "image/png": "[encoded data removed]",
      "text/plain": [
       "<matplotlib.figure.Figure at 0x1f510436a58>"
      ]
     },
     "metadata": {},
     "output_type": "display_data"
    }
   ],
   "source": [
    "from sklearn.linear_model import LogisticRegression\n",
    "from sklearn.ensemble import RandomForestClassifier\n",
    "from sklearn.svm import LinearSVC\n",
    "from sklearn.model_selection import cross_val_score\n",
    "models = [\n",
    "    RandomForestClassifier(n_estimators=200, max_depth=3, random_state=0),\n",
    "    LinearSVC(),\n",
    "    MultinomialNB(),\n",
    "    LogisticRegression(random_state=0),\n",
    "]\n",
    "CV = 5\n",
    "cv_df = pd.DataFrame(index=range(CV * len(models)))\n",
    "entries = []\n",
    "for model in models:\n",
    "    model_name = model.__class__.__name__\n",
    "    accuracies = cross_val_score(model, features, labels, scoring='accuracy', cv=CV)\n",
    "    for fold_idx, accuracy in enumerate(accuracies):\n",
    "        entries.append((model_name, fold_idx, accuracy))\n",
    "    cv_df = pd.DataFrame(entries, columns=['model_name', 'fold_idx', 'accuracy'])\n",
    "import seaborn as sns\n",
    "sns.boxplot(x='model_name', y='accuracy', data=cv_df)\n",
    "sns.stripplot(x='model_name', y='accuracy', data=cv_df, \n",
    "              size=8, jitter=True, edgecolor=\"gray\", linewidth=2)\n",
    "plt.show()"
   ]
  },
  {
   "cell_type": "code",
   "execution_count": 29,
   "metadata": {},
   "outputs": [
    {
     "data": {
      "text/plain": [
       "model_name\n",
       "LinearSVC                 0.258007\n",
       "LogisticRegression        0.332633\n",
       "MultinomialNB             0.339453\n",
       "RandomForestClassifier    0.275791\n",
       "Name: accuracy, dtype: float64"
      ]
     },
     "execution_count": 29,
     "metadata": {},
     "output_type": "execute_result"
    }
   ],
   "source": [
    "cv_df.groupby('model_name').accuracy.mean()"
   ]
  },
  {
   "cell_type": "code",
   "execution_count": 33,
   "metadata": {},
   "outputs": [
    {
     "data": {
      "image/png": "[encoded data removed]",
      "text/plain": [
       "<matplotlib.figure.Figure at 0x1f50dabfbe0>"
      ]
     },
     "metadata": {},
     "output_type": "display_data"
    },
    {
     "data": {
      "image/png": "[encoded data removed]",
      "text/plain": [
       "<matplotlib.figure.Figure at 0x1f51194a0b8>"
      ]
     },
     "metadata": {},
     "output_type": "display_data"
    },
    {
     "data": {
      "image/png": "[encoded data removed]",
      "text/plain": [
       "<matplotlib.figure.Figure at 0x1f512a70390>"
      ]
     },
     "metadata": {},
     "output_type": "display_data"
    },
    {
     "data": {
      "image/png": "[encoded data removed]",
      "text/plain": [
       "<matplotlib.figure.Figure at 0x1f512acfba8>"
      ]
     },
     "metadata": {},
     "output_type": "display_data"
    }
   ],
   "source": [
    "model = LinearSVC()\n",
    "X_train, X_test, y_train, y_test, indices_train, indices_test = train_test_split(features, labels, df.index, test_size=0.33, random_state=0)\n",
    "model.fit(X_train, y_train)\n",
    "y_pred = model.predict(X_test)\n",
    "from sklearn.metrics import confusion_matrix\n",
    "conf_mat = confusion_matrix(y_test, y_pred)\n",
    "fig, ax = plt.subplots(figsize=(10,10))\n",
    "sns.heatmap(conf_mat, annot=True, fmt='d',xticklabels=category_id_df.current_character.values, yticklabels=category_id_df.current_character.values)\n",
    "plt.ylabel('Actual')\n",
    "plt.xlabel('Predicted')\n",
    "plt.show()"
   ]
  },
  {
   "cell_type": "code",
   "execution_count": 35,
   "metadata": {},
   "outputs": [
    {
     "name": "stdout",
     "output_type": "stream",
     "text": [
      "'HENRY' predicted as 'FITZGERALD' : 16 examples.\n"
     ]
    },
    {
     "data": {
      "text/html": [
       "<div>\n",
       "<style>\n",
       "    .dataframe thead tr:only-child th {\n",
       "        text-align: right;\n",
       "    }\n",
       "\n",
       "    .dataframe thead th {\n",
       "        text-align: left;\n",
       "    }\n",
       "\n",
       "    .dataframe tbody tr th {\n",
       "        vertical-align: top;\n",
       "    }\n",
       "</style>\n",
       "<table border=\"1\" class=\"dataframe\">\n",
       "  <thead>\n",
       "    <tr style=\"text-align: right;\">\n",
       "      <th></th>\n",
       "      <th>current_character</th>\n",
       "      <th>current_dialogue</th>\n",
       "    </tr>\n",
       "  </thead>\n",
       "  <tbody>\n",
       "    <tr>\n",
       "      <th>78</th>\n",
       "      <td>HENRY</td>\n",
       "      <td>UP AHEAD!</td>\n",
       "    </tr>\n",
       "    <tr>\n",
       "      <th>247</th>\n",
       "      <td>HENRY</td>\n",
       "      <td>We all saw the shape Glass was in.  There was ...</td>\n",
       "    </tr>\n",
       "    <tr>\n",
       "      <th>132</th>\n",
       "      <td>HENRY</td>\n",
       "      <td>Get movin'.</td>\n",
       "    </tr>\n",
       "    <tr>\n",
       "      <th>429</th>\n",
       "      <td>HENRY</td>\n",
       "      <td>He's travelin' with somebody?</td>\n",
       "    </tr>\n",
       "    <tr>\n",
       "      <th>423</th>\n",
       "      <td>HENRY</td>\n",
       "      <td>What's out that direction? Talbot?</td>\n",
       "    </tr>\n",
       "    <tr>\n",
       "      <th>453</th>\n",
       "      <td>HENRY</td>\n",
       "      <td>I'm here to save your life.</td>\n",
       "    </tr>\n",
       "    <tr>\n",
       "      <th>241</th>\n",
       "      <td>HENRY</td>\n",
       "      <td>Speaking of shares.</td>\n",
       "    </tr>\n",
       "    <tr>\n",
       "      <th>60</th>\n",
       "      <td>HENRY</td>\n",
       "      <td>Can't sleep either?</td>\n",
       "    </tr>\n",
       "    <tr>\n",
       "      <th>154</th>\n",
       "      <td>HENRY</td>\n",
       "      <td>A hundred then.</td>\n",
       "    </tr>\n",
       "    <tr>\n",
       "      <th>363</th>\n",
       "      <td>HENRY</td>\n",
       "      <td>Let's get some coffee to warm you up. (to Glas...</td>\n",
       "    </tr>\n",
       "    <tr>\n",
       "      <th>445</th>\n",
       "      <td>HENRY</td>\n",
       "      <td>Guess you would've been better off  on your own.</td>\n",
       "    </tr>\n",
       "    <tr>\n",
       "      <th>157</th>\n",
       "      <td>HENRY</td>\n",
       "      <td>But Glass is to be cared for until.  Understood?</td>\n",
       "    </tr>\n",
       "    <tr>\n",
       "      <th>442</th>\n",
       "      <td>HENRY</td>\n",
       "      <td>There!</td>\n",
       "    </tr>\n",
       "    <tr>\n",
       "      <th>368</th>\n",
       "      <td>HENRY</td>\n",
       "      <td>We'll take care of it. You should  go settle in.</td>\n",
       "    </tr>\n",
       "    <tr>\n",
       "      <th>425</th>\n",
       "      <td>HENRY</td>\n",
       "      <td>Three days ago now.</td>\n",
       "    </tr>\n",
       "    <tr>\n",
       "      <th>394</th>\n",
       "      <td>HENRY</td>\n",
       "      <td>I know you can. But maybe you  won't have to.</td>\n",
       "    </tr>\n",
       "  </tbody>\n",
       "</table>\n",
       "</div>"
      ],
      "text/plain": [
       "    current_character                                   current_dialogue\n",
       "78              HENRY                                          UP AHEAD!\n",
       "247             HENRY  We all saw the shape Glass was in.  There was ...\n",
       "132             HENRY                                        Get movin'.\n",
       "429             HENRY                      He's travelin' with somebody?\n",
       "423             HENRY                 What's out that direction? Talbot?\n",
       "453             HENRY                        I'm here to save your life.\n",
       "241             HENRY                                Speaking of shares.\n",
       "60              HENRY                                Can't sleep either?\n",
       "154             HENRY                                    A hundred then.\n",
       "363             HENRY  Let's get some coffee to warm you up. (to Glas...\n",
       "445             HENRY   Guess you would've been better off  on your own.\n",
       "157             HENRY   But Glass is to be cared for until.  Understood?\n",
       "442             HENRY                                             There!\n",
       "368             HENRY   We'll take care of it. You should  go settle in.\n",
       "425             HENRY                                Three days ago now.\n",
       "394             HENRY      I know you can. But maybe you  won't have to."
      ]
     },
     "metadata": {},
     "output_type": "display_data"
    },
    {
     "name": "stdout",
     "output_type": "stream",
     "text": [
      "\n",
      "'GLASS' predicted as 'FITZGERALD' : 11 examples.\n"
     ]
    },
    {
     "data": {
      "text/html": [
       "<div>\n",
       "<style>\n",
       "    .dataframe thead tr:only-child th {\n",
       "        text-align: right;\n",
       "    }\n",
       "\n",
       "    .dataframe thead th {\n",
       "        text-align: left;\n",
       "    }\n",
       "\n",
       "    .dataframe tbody tr th {\n",
       "        vertical-align: top;\n",
       "    }\n",
       "</style>\n",
       "<table border=\"1\" class=\"dataframe\">\n",
       "  <thead>\n",
       "    <tr style=\"text-align: right;\">\n",
       "      <th></th>\n",
       "      <th>current_character</th>\n",
       "      <th>current_dialogue</th>\n",
       "    </tr>\n",
       "  </thead>\n",
       "  <tbody>\n",
       "    <tr>\n",
       "      <th>37</th>\n",
       "      <td>GLASS</td>\n",
       "      <td>No posts that far out.</td>\n",
       "    </tr>\n",
       "    <tr>\n",
       "      <th>268</th>\n",
       "      <td>GLASS</td>\n",
       "      <td>They took. They took...</td>\n",
       "    </tr>\n",
       "    <tr>\n",
       "      <th>56</th>\n",
       "      <td>GLASS</td>\n",
       "      <td>Best I can tell, my place is right where I wan...</td>\n",
       "    </tr>\n",
       "    <tr>\n",
       "      <th>254</th>\n",
       "      <td>GLASS</td>\n",
       "      <td>How many suns? Ten?</td>\n",
       "    </tr>\n",
       "    <tr>\n",
       "      <th>282</th>\n",
       "      <td>GLASS</td>\n",
       "      <td>No.</td>\n",
       "    </tr>\n",
       "    <tr>\n",
       "      <th>448</th>\n",
       "      <td>GLASS</td>\n",
       "      <td>Smoke.</td>\n",
       "    </tr>\n",
       "    <tr>\n",
       "      <th>299</th>\n",
       "      <td>GLASS</td>\n",
       "      <td>We can start with this.</td>\n",
       "    </tr>\n",
       "    <tr>\n",
       "      <th>255</th>\n",
       "      <td>GLASS</td>\n",
       "      <td>Ten suns?</td>\n",
       "    </tr>\n",
       "    <tr>\n",
       "      <th>449</th>\n",
       "      <td>GLASS</td>\n",
       "      <td>I'll head in from the west... you  take the east.</td>\n",
       "    </tr>\n",
       "    <tr>\n",
       "      <th>436</th>\n",
       "      <td>GLASS</td>\n",
       "      <td>I do.</td>\n",
       "    </tr>\n",
       "    <tr>\n",
       "      <th>306</th>\n",
       "      <td>GLASS</td>\n",
       "      <td>No.</td>\n",
       "    </tr>\n",
       "  </tbody>\n",
       "</table>\n",
       "</div>"
      ],
      "text/plain": [
       "    current_character                                   current_dialogue\n",
       "37              GLASS                             No posts that far out.\n",
       "268             GLASS                            They took. They took...\n",
       "56              GLASS  Best I can tell, my place is right where I wan...\n",
       "254             GLASS                                How many suns? Ten?\n",
       "282             GLASS                                                No.\n",
       "448             GLASS                                             Smoke.\n",
       "299             GLASS                            We can start with this.\n",
       "255             GLASS                                          Ten suns?\n",
       "449             GLASS  I'll head in from the west... you  take the east.\n",
       "436             GLASS                                              I do.\n",
       "306             GLASS                                                No."
      ]
     },
     "metadata": {},
     "output_type": "display_data"
    },
    {
     "name": "stdout",
     "output_type": "stream",
     "text": [
      "\n"
     ]
    },
    {
     "ename": "IndexError",
     "evalue": "index 16 is out of bounds for axis 0 with size 16",
     "output_type": "error",
     "traceback": [
      "\u001b[1;31m---------------------------------------------------------------------------\u001b[0m",
      "\u001b[1;31mIndexError\u001b[0m                                Traceback (most recent call last)",
      "\u001b[1;32m<ipython-input-35-d58db619cd2e>\u001b[0m in \u001b[0;36m<module>\u001b[1;34m()\u001b[0m\n\u001b[0;32m      2\u001b[0m \u001b[1;32mfor\u001b[0m \u001b[0mpredicted\u001b[0m \u001b[1;32min\u001b[0m \u001b[0mcategory_id_df\u001b[0m\u001b[1;33m.\u001b[0m\u001b[0mcategory_id\u001b[0m\u001b[1;33m:\u001b[0m\u001b[1;33m\u001b[0m\u001b[0m\n\u001b[0;32m      3\u001b[0m     \u001b[1;32mfor\u001b[0m \u001b[0mactual\u001b[0m \u001b[1;32min\u001b[0m \u001b[0mcategory_id_df\u001b[0m\u001b[1;33m.\u001b[0m\u001b[0mcategory_id\u001b[0m\u001b[1;33m:\u001b[0m\u001b[1;33m\u001b[0m\u001b[0m\n\u001b[1;32m----> 4\u001b[1;33m         \u001b[1;32mif\u001b[0m \u001b[0mpredicted\u001b[0m \u001b[1;33m!=\u001b[0m \u001b[0mactual\u001b[0m \u001b[1;32mand\u001b[0m \u001b[0mconf_mat\u001b[0m\u001b[1;33m[\u001b[0m\u001b[0mactual\u001b[0m\u001b[1;33m,\u001b[0m \u001b[0mpredicted\u001b[0m\u001b[1;33m]\u001b[0m \u001b[1;33m>=\u001b[0m \u001b[1;36m10\u001b[0m\u001b[1;33m:\u001b[0m\u001b[1;33m\u001b[0m\u001b[0m\n\u001b[0m\u001b[0;32m      5\u001b[0m             \u001b[0mprint\u001b[0m\u001b[1;33m(\u001b[0m\u001b[1;34m\"'{}' predicted as '{}' : {} examples.\"\u001b[0m\u001b[1;33m.\u001b[0m\u001b[0mformat\u001b[0m\u001b[1;33m(\u001b[0m\u001b[0mid_to_category\u001b[0m\u001b[1;33m[\u001b[0m\u001b[0mactual\u001b[0m\u001b[1;33m]\u001b[0m\u001b[1;33m,\u001b[0m \u001b[0mid_to_category\u001b[0m\u001b[1;33m[\u001b[0m\u001b[0mpredicted\u001b[0m\u001b[1;33m]\u001b[0m\u001b[1;33m,\u001b[0m \u001b[0mconf_mat\u001b[0m\u001b[1;33m[\u001b[0m\u001b[0mactual\u001b[0m\u001b[1;33m,\u001b[0m \u001b[0mpredicted\u001b[0m\u001b[1;33m]\u001b[0m\u001b[1;33m)\u001b[0m\u001b[1;33m)\u001b[0m\u001b[1;33m\u001b[0m\u001b[0m\n\u001b[0;32m      6\u001b[0m             \u001b[0mdisplay\u001b[0m\u001b[1;33m(\u001b[0m\u001b[0mdf\u001b[0m\u001b[1;33m.\u001b[0m\u001b[0mloc\u001b[0m\u001b[1;33m[\u001b[0m\u001b[0mindices_test\u001b[0m\u001b[1;33m[\u001b[0m\u001b[1;33m(\u001b[0m\u001b[0my_test\u001b[0m \u001b[1;33m==\u001b[0m \u001b[0mactual\u001b[0m\u001b[1;33m)\u001b[0m \u001b[1;33m&\u001b[0m \u001b[1;33m(\u001b[0m\u001b[0my_pred\u001b[0m \u001b[1;33m==\u001b[0m \u001b[0mpredicted\u001b[0m\u001b[1;33m)\u001b[0m\u001b[1;33m]\u001b[0m\u001b[1;33m]\u001b[0m\u001b[1;33m[\u001b[0m\u001b[1;33m[\u001b[0m\u001b[1;34m'current_character'\u001b[0m\u001b[1;33m,\u001b[0m \u001b[1;34m'current_dialogue'\u001b[0m\u001b[1;33m]\u001b[0m\u001b[1;33m]\u001b[0m\u001b[1;33m)\u001b[0m\u001b[1;33m\u001b[0m\u001b[0m\n",
      "\u001b[1;31mIndexError\u001b[0m: index 16 is out of bounds for axis 0 with size 16"
     ]
    }
   ],
   "source": [
    "from IPython.display import display\n",
    "for predicted in category_id_df.category_id:\n",
    "    for actual in category_id_df.category_id:\n",
    "        if predicted != actual and conf_mat[actual, predicted] >= 10:\n",
    "            print(\"'{}' predicted as '{}' : {} examples.\".format(id_to_category[actual], id_to_category[predicted], conf_mat[actual, predicted]))\n",
    "            display(df.loc[indices_test[(y_test == actual) & (y_pred == predicted)]][['current_character', 'current_dialogue']])\n",
    "            print('')"
   ]
  },
  {
   "cell_type": "code",
   "execution_count": 36,
   "metadata": {},
   "outputs": [
    {
     "name": "stdout",
     "output_type": "stream",
     "text": [
      "                                                            precision    recall  f1-score   support\n",
      "\n",
      "                                                FITZGERALD       0.35      0.73      0.48        41\n",
      "                                                     BOONE       0.00      0.00      0.00         2\n",
      "                                                     HENRY       0.48      0.35      0.41        31\n",
      "                                                     VOICE       0.00      0.00      0.00         2\n",
      "                                                       PIG       0.00      0.00      0.00        12\n",
      "                                                   BRIDGER       0.22      0.18      0.20        11\n",
      "                                                     GLASS       0.40      0.28      0.33        29\n",
      "                                                   TRAPPER       0.00      0.00      0.00         1\n",
      "                                                  ANDERSON       0.00      0.00      0.00         4\n",
      "                                               STUBBY BILL       0.00      0.00      0.00         2\n",
      "                                                    MURPHY       0.00      0.00      0.00         2\n",
      "                        ANSWER ME OR I BLOW YOUR DAMN HEAD       0.00      0.00      0.00         0\n",
      "                                             SPOTTED HORSE       0.00      0.00      0.00         5\n",
      "LEATHER STRAPS SNAPPING AROUND GLASS' WRISTS AND ANKLES...       0.00      0.00      0.00         8\n",
      "                                                      BOYS       0.00      0.00      0.00         1\n",
      "                                                  RED HAWK       0.00      0.00      0.00         1\n",
      "\n",
      "                                               avg / total       0.29      0.34      0.29       152\n",
      "\n"
     ]
    },
    {
     "name": "stderr",
     "output_type": "stream",
     "text": [
      "C:\\ProgramData\\Anaconda3\\envs\\tf35\\lib\\site-packages\\sklearn\\metrics\\classification.py:1113: UndefinedMetricWarning: Precision and F-score are ill-defined and being set to 0.0 in labels with no predicted samples.\n",
      "  'precision', 'predicted', average, warn_for)\n",
      "C:\\ProgramData\\Anaconda3\\envs\\tf35\\lib\\site-packages\\sklearn\\metrics\\classification.py:1115: UndefinedMetricWarning: Recall and F-score are ill-defined and being set to 0.0 in labels with no true samples.\n",
      "  'recall', 'true', average, warn_for)\n"
     ]
    }
   ],
   "source": [
    "from sklearn import metrics\n",
    "print(metrics.classification_report(y_test, y_pred, target_names=df['current_character'].unique()))"
   ]
  }
 ],
 "metadata": {
  "kernelspec": {
   "display_name": "Python 3",
   "language": "python",
   "name": "python3"
  },
  "language_info": {
   "codemirror_mode": {
    "name": "ipython",
    "version": 3
   },
   "file_extension": ".py",
   "mimetype": "text/x-python",
   "name": "python",
   "nbconvert_exporter": "python",
   "pygments_lexer": "ipython3",
   "version": "3.5.3"
  }
 },
 "nbformat": 4,
 "nbformat_minor": 2
}
