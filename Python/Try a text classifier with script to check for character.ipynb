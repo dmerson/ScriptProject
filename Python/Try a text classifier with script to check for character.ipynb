{
 "cells": [
  {
   "cell_type": "markdown",
   "metadata": {},
   "source": [
    "Read in character dialgoue file and look at columns."
   ]
  },
  {
   "cell_type": "code",
   "execution_count": 16,
   "metadata": {},
   "outputs": [
    {
     "data": {
      "text/html": [
       "<div>\n",
       "<style>\n",
       "    .dataframe thead tr:only-child th {\n",
       "        text-align: right;\n",
       "    }\n",
       "\n",
       "    .dataframe thead th {\n",
       "        text-align: left;\n",
       "    }\n",
       "\n",
       "    .dataframe tbody tr th {\n",
       "        vertical-align: top;\n",
       "    }\n",
       "</style>\n",
       "<table border=\"1\" class=\"dataframe\">\n",
       "  <thead>\n",
       "    <tr style=\"text-align: right;\">\n",
       "      <th></th>\n",
       "      <th>Unnamed: 0</th>\n",
       "      <th>current_character</th>\n",
       "      <th>current_dialogue</th>\n",
       "    </tr>\n",
       "  </thead>\n",
       "  <tbody>\n",
       "    <tr>\n",
       "      <th>0</th>\n",
       "      <td>1</td>\n",
       "      <td>FITZGERALD</td>\n",
       "      <td>Likely got a splinter. Can't figure what to do...</td>\n",
       "    </tr>\n",
       "    <tr>\n",
       "      <th>1</th>\n",
       "      <td>2</td>\n",
       "      <td>BOONE</td>\n",
       "      <td>Need a doc, Captain?</td>\n",
       "    </tr>\n",
       "    <tr>\n",
       "      <th>2</th>\n",
       "      <td>3</td>\n",
       "      <td>HENRY</td>\n",
       "      <td>Gather more wood.</td>\n",
       "    </tr>\n",
       "    <tr>\n",
       "      <th>3</th>\n",
       "      <td>4</td>\n",
       "      <td>FITZGERALD</td>\n",
       "      <td>Shame my Pap was a broken down drunk. Else he ...</td>\n",
       "    </tr>\n",
       "    <tr>\n",
       "      <th>4</th>\n",
       "      <td>5</td>\n",
       "      <td>FITZGERALD</td>\n",
       "      <td>We got a plan for these fires, Captain, or are...</td>\n",
       "    </tr>\n",
       "  </tbody>\n",
       "</table>\n",
       "</div>"
      ],
      "text/plain": [
       "   Unnamed: 0                      current_character  \\\n",
       "0           1                             FITZGERALD   \n",
       "1           2                                  BOONE   \n",
       "2           3                                  HENRY   \n",
       "3           4                             FITZGERALD   \n",
       "4           5                            FITZGERALD    \n",
       "\n",
       "                                    current_dialogue  \n",
       "0  Likely got a splinter. Can't figure what to do...  \n",
       "1                               Need a doc, Captain?  \n",
       "2                                  Gather more wood.  \n",
       "3  Shame my Pap was a broken down drunk. Else he ...  \n",
       "4  We got a plan for these fires, Captain, or are...  "
      ]
     },
     "execution_count": 16,
     "metadata": {},
     "output_type": "execute_result"
    }
   ],
   "source": [
    "#https://towardsdatascience.com/multi-class-text-classification-with-scikit-learn-12f1e60e0a9f\n",
    "import pandas as pd\n",
    "df = pd.read_csv('rev_dialogue.csv' )\n",
    "df.head()"
   ]
  },
  {
   "cell_type": "markdown",
   "metadata": {},
   "source": [
    "Set only necessary columns from file."
   ]
  },
  {
   "cell_type": "code",
   "execution_count": 17,
   "metadata": {},
   "outputs": [
    {
     "data": {
      "text/html": [
       "<div>\n",
       "<style>\n",
       "    .dataframe thead tr:only-child th {\n",
       "        text-align: right;\n",
       "    }\n",
       "\n",
       "    .dataframe thead th {\n",
       "        text-align: left;\n",
       "    }\n",
       "\n",
       "    .dataframe tbody tr th {\n",
       "        vertical-align: top;\n",
       "    }\n",
       "</style>\n",
       "<table border=\"1\" class=\"dataframe\">\n",
       "  <thead>\n",
       "    <tr style=\"text-align: right;\">\n",
       "      <th></th>\n",
       "      <th>current_character</th>\n",
       "      <th>current_dialogue</th>\n",
       "    </tr>\n",
       "  </thead>\n",
       "  <tbody>\n",
       "    <tr>\n",
       "      <th>0</th>\n",
       "      <td>FITZGERALD</td>\n",
       "      <td>Likely got a splinter. Can't figure what to do...</td>\n",
       "    </tr>\n",
       "    <tr>\n",
       "      <th>1</th>\n",
       "      <td>BOONE</td>\n",
       "      <td>Need a doc, Captain?</td>\n",
       "    </tr>\n",
       "    <tr>\n",
       "      <th>2</th>\n",
       "      <td>HENRY</td>\n",
       "      <td>Gather more wood.</td>\n",
       "    </tr>\n",
       "    <tr>\n",
       "      <th>3</th>\n",
       "      <td>FITZGERALD</td>\n",
       "      <td>Shame my Pap was a broken down drunk. Else he ...</td>\n",
       "    </tr>\n",
       "    <tr>\n",
       "      <th>4</th>\n",
       "      <td>FITZGERALD</td>\n",
       "      <td>We got a plan for these fires, Captain, or are...</td>\n",
       "    </tr>\n",
       "  </tbody>\n",
       "</table>\n",
       "</div>"
      ],
      "text/plain": [
       "                       current_character  \\\n",
       "0                             FITZGERALD   \n",
       "1                                  BOONE   \n",
       "2                                  HENRY   \n",
       "3                             FITZGERALD   \n",
       "4                            FITZGERALD    \n",
       "\n",
       "                                    current_dialogue  \n",
       "0  Likely got a splinter. Can't figure what to do...  \n",
       "1                               Need a doc, Captain?  \n",
       "2                                  Gather more wood.  \n",
       "3  Shame my Pap was a broken down drunk. Else he ...  \n",
       "4  We got a plan for these fires, Captain, or are...  "
      ]
     },
     "execution_count": 17,
     "metadata": {},
     "output_type": "execute_result"
    }
   ],
   "source": [
    "from io import StringIO\n",
    "col=['current_character','current_dialogue']\n",
    "df=df[col]\n",
    "df.head()"
   ]
  },
  {
   "cell_type": "markdown",
   "metadata": {},
   "source": [
    "Remove any null values and trim away whitespace issues."
   ]
  },
  {
   "cell_type": "code",
   "execution_count": 18,
   "metadata": {},
   "outputs": [
    {
     "data": {
      "text/html": [
       "<div>\n",
       "<style>\n",
       "    .dataframe thead tr:only-child th {\n",
       "        text-align: right;\n",
       "    }\n",
       "\n",
       "    .dataframe thead th {\n",
       "        text-align: left;\n",
       "    }\n",
       "\n",
       "    .dataframe tbody tr th {\n",
       "        vertical-align: top;\n",
       "    }\n",
       "</style>\n",
       "<table border=\"1\" class=\"dataframe\">\n",
       "  <thead>\n",
       "    <tr style=\"text-align: right;\">\n",
       "      <th></th>\n",
       "      <th>current_character</th>\n",
       "      <th>current_dialogue</th>\n",
       "    </tr>\n",
       "  </thead>\n",
       "  <tbody>\n",
       "    <tr>\n",
       "      <th>0</th>\n",
       "      <td>FITZGERALD</td>\n",
       "      <td>Likely got a splinter. Can't figure what to do...</td>\n",
       "    </tr>\n",
       "    <tr>\n",
       "      <th>1</th>\n",
       "      <td>BOONE</td>\n",
       "      <td>Need a doc, Captain?</td>\n",
       "    </tr>\n",
       "    <tr>\n",
       "      <th>2</th>\n",
       "      <td>HENRY</td>\n",
       "      <td>Gather more wood.</td>\n",
       "    </tr>\n",
       "    <tr>\n",
       "      <th>3</th>\n",
       "      <td>FITZGERALD</td>\n",
       "      <td>Shame my Pap was a broken down drunk. Else he ...</td>\n",
       "    </tr>\n",
       "    <tr>\n",
       "      <th>4</th>\n",
       "      <td>FITZGERALD</td>\n",
       "      <td>We got a plan for these fires, Captain, or are...</td>\n",
       "    </tr>\n",
       "  </tbody>\n",
       "</table>\n",
       "</div>"
      ],
      "text/plain": [
       "  current_character                                   current_dialogue\n",
       "0        FITZGERALD  Likely got a splinter. Can't figure what to do...\n",
       "1             BOONE                               Need a doc, Captain?\n",
       "2             HENRY                                  Gather more wood.\n",
       "3        FITZGERALD  Shame my Pap was a broken down drunk. Else he ...\n",
       "4        FITZGERALD  We got a plan for these fires, Captain, or are..."
      ]
     },
     "execution_count": 18,
     "metadata": {},
     "output_type": "execute_result"
    }
   ],
   "source": [
    "df=df[pd.notnull(df[\"current_character\"])]\n",
    "df=df[pd.notnull(df[\"current_dialogue\"])]\n",
    "df[\"current_character\"]=df[\"current_character\"].str.strip()\n",
    "df[\"current_dialogue\"]=df[\"current_dialogue\"].str.strip()\n",
    "df.head()"
   ]
  },
  {
   "cell_type": "markdown",
   "metadata": {},
   "source": [
    "Factorize the target column"
   ]
  },
  {
   "cell_type": "code",
   "execution_count": 19,
   "metadata": {},
   "outputs": [
    {
     "data": {
      "text/html": [
       "<div>\n",
       "<style>\n",
       "    .dataframe thead tr:only-child th {\n",
       "        text-align: right;\n",
       "    }\n",
       "\n",
       "    .dataframe thead th {\n",
       "        text-align: left;\n",
       "    }\n",
       "\n",
       "    .dataframe tbody tr th {\n",
       "        vertical-align: top;\n",
       "    }\n",
       "</style>\n",
       "<table border=\"1\" class=\"dataframe\">\n",
       "  <thead>\n",
       "    <tr style=\"text-align: right;\">\n",
       "      <th></th>\n",
       "      <th>current_character</th>\n",
       "      <th>current_dialogue</th>\n",
       "      <th>category_id</th>\n",
       "    </tr>\n",
       "  </thead>\n",
       "  <tbody>\n",
       "    <tr>\n",
       "      <th>0</th>\n",
       "      <td>FITZGERALD</td>\n",
       "      <td>Likely got a splinter. Can't figure what to do...</td>\n",
       "      <td>0</td>\n",
       "    </tr>\n",
       "    <tr>\n",
       "      <th>1</th>\n",
       "      <td>BOONE</td>\n",
       "      <td>Need a doc, Captain?</td>\n",
       "      <td>1</td>\n",
       "    </tr>\n",
       "    <tr>\n",
       "      <th>2</th>\n",
       "      <td>HENRY</td>\n",
       "      <td>Gather more wood.</td>\n",
       "      <td>2</td>\n",
       "    </tr>\n",
       "    <tr>\n",
       "      <th>3</th>\n",
       "      <td>FITZGERALD</td>\n",
       "      <td>Shame my Pap was a broken down drunk. Else he ...</td>\n",
       "      <td>0</td>\n",
       "    </tr>\n",
       "    <tr>\n",
       "      <th>4</th>\n",
       "      <td>FITZGERALD</td>\n",
       "      <td>We got a plan for these fires, Captain, or are...</td>\n",
       "      <td>0</td>\n",
       "    </tr>\n",
       "    <tr>\n",
       "      <th>5</th>\n",
       "      <td>HENRY</td>\n",
       "      <td>Glass and the others will be back with some ga...</td>\n",
       "      <td>2</td>\n",
       "    </tr>\n",
       "    <tr>\n",
       "      <th>6</th>\n",
       "      <td>FITZGERALD</td>\n",
       "      <td>My supper's in the hands of a hermit nigger, a...</td>\n",
       "      <td>0</td>\n",
       "    </tr>\n",
       "    <tr>\n",
       "      <th>7</th>\n",
       "      <td>VOICE</td>\n",
       "      <td>Shit fire, you got him, Mr. Glass!</td>\n",
       "      <td>3</td>\n",
       "    </tr>\n",
       "    <tr>\n",
       "      <th>8</th>\n",
       "      <td>PIG</td>\n",
       "      <td>Square as a barn door.</td>\n",
       "      <td>4</td>\n",
       "    </tr>\n",
       "    <tr>\n",
       "      <th>9</th>\n",
       "      <td>PIG</td>\n",
       "      <td>Right where you said he'd be.</td>\n",
       "      <td>4</td>\n",
       "    </tr>\n",
       "  </tbody>\n",
       "</table>\n",
       "</div>"
      ],
      "text/plain": [
       "  current_character                                   current_dialogue  \\\n",
       "0        FITZGERALD  Likely got a splinter. Can't figure what to do...   \n",
       "1             BOONE                               Need a doc, Captain?   \n",
       "2             HENRY                                  Gather more wood.   \n",
       "3        FITZGERALD  Shame my Pap was a broken down drunk. Else he ...   \n",
       "4        FITZGERALD  We got a plan for these fires, Captain, or are...   \n",
       "5             HENRY  Glass and the others will be back with some ga...   \n",
       "6        FITZGERALD  My supper's in the hands of a hermit nigger, a...   \n",
       "7             VOICE                 Shit fire, you got him, Mr. Glass!   \n",
       "8               PIG                             Square as a barn door.   \n",
       "9               PIG                      Right where you said he'd be.   \n",
       "\n",
       "   category_id  \n",
       "0            0  \n",
       "1            1  \n",
       "2            2  \n",
       "3            0  \n",
       "4            0  \n",
       "5            2  \n",
       "6            0  \n",
       "7            3  \n",
       "8            4  \n",
       "9            4  "
      ]
     },
     "execution_count": 19,
     "metadata": {},
     "output_type": "execute_result"
    }
   ],
   "source": [
    "df['category_id'] = df['current_character'].factorize()[0]\n",
    "df.head(10)"
   ]
  },
  {
   "cell_type": "markdown",
   "metadata": {},
   "source": [
    "Create a lookup table (category id)"
   ]
  },
  {
   "cell_type": "code",
   "execution_count": 20,
   "metadata": {},
   "outputs": [
    {
     "data": {
      "text/html": [
       "<div>\n",
       "<style>\n",
       "    .dataframe thead tr:only-child th {\n",
       "        text-align: right;\n",
       "    }\n",
       "\n",
       "    .dataframe thead th {\n",
       "        text-align: left;\n",
       "    }\n",
       "\n",
       "    .dataframe tbody tr th {\n",
       "        vertical-align: top;\n",
       "    }\n",
       "</style>\n",
       "<table border=\"1\" class=\"dataframe\">\n",
       "  <thead>\n",
       "    <tr style=\"text-align: right;\">\n",
       "      <th></th>\n",
       "      <th>current_character</th>\n",
       "      <th>category_id</th>\n",
       "    </tr>\n",
       "  </thead>\n",
       "  <tbody>\n",
       "    <tr>\n",
       "      <th>0</th>\n",
       "      <td>FITZGERALD</td>\n",
       "      <td>0</td>\n",
       "    </tr>\n",
       "    <tr>\n",
       "      <th>1</th>\n",
       "      <td>BOONE</td>\n",
       "      <td>1</td>\n",
       "    </tr>\n",
       "    <tr>\n",
       "      <th>2</th>\n",
       "      <td>HENRY</td>\n",
       "      <td>2</td>\n",
       "    </tr>\n",
       "    <tr>\n",
       "      <th>7</th>\n",
       "      <td>VOICE</td>\n",
       "      <td>3</td>\n",
       "    </tr>\n",
       "    <tr>\n",
       "      <th>8</th>\n",
       "      <td>PIG</td>\n",
       "      <td>4</td>\n",
       "    </tr>\n",
       "  </tbody>\n",
       "</table>\n",
       "</div>"
      ],
      "text/plain": [
       "  current_character  category_id\n",
       "0        FITZGERALD            0\n",
       "1             BOONE            1\n",
       "2             HENRY            2\n",
       "7             VOICE            3\n",
       "8               PIG            4"
      ]
     },
     "execution_count": 20,
     "metadata": {},
     "output_type": "execute_result"
    }
   ],
   "source": [
    "category_id_df = df[['current_character', 'category_id']].drop_duplicates().sort_values('category_id')\n",
    "category_id_df.head()"
   ]
  },
  {
   "cell_type": "markdown",
   "metadata": {},
   "source": [
    "Create dictionaries for category"
   ]
  },
  {
   "cell_type": "code",
   "execution_count": 23,
   "metadata": {},
   "outputs": [
    {
     "data": {
      "text/plain": [
       "{0: 'FITZGERALD',\n",
       " 1: 'BOONE',\n",
       " 2: 'HENRY',\n",
       " 3: 'VOICE',\n",
       " 4: 'PIG',\n",
       " 5: 'BRIDGER',\n",
       " 6: 'GLASS',\n",
       " 7: 'TRAPPER',\n",
       " 8: 'ANDERSON',\n",
       " 9: 'STUBBY BILL',\n",
       " 10: 'MURPHY',\n",
       " 11: 'ANSWER ME OR I BLOW YOUR DAMN HEAD',\n",
       " 12: 'SPOTTED HORSE',\n",
       " 13: \"LEATHER STRAPS SNAPPING AROUND GLASS' WRISTS AND ANKLES...\",\n",
       " 14: 'BOYS',\n",
       " 15: 'RED HAWK',\n",
       " 16: 'THREE FEATHERS',\n",
       " 17: 'BRAZEAU',\n",
       " 18: 'RUNTY MAN',\n",
       " 19: 'TRAPPER #2',\n",
       " 20: 'FAT TRAPPER',\n",
       " 21: 'TRAPPER #1'}"
      ]
     },
     "execution_count": 23,
     "metadata": {},
     "output_type": "execute_result"
    }
   ],
   "source": [
    "category_to_id = dict(category_id_df.values)\n",
    "id_to_category = dict(category_id_df[['category_id', 'current_character']].values)\n",
    "category_to_id\n",
    "id_to_category"
   ]
  }
 ],
 "metadata": {
  "kernelspec": {
   "display_name": "Python 3",
   "language": "python",
   "name": "python3"
  },
  "language_info": {
   "codemirror_mode": {
    "name": "ipython",
    "version": 3
   },
   "file_extension": ".py",
   "mimetype": "text/x-python",
   "name": "python",
   "nbconvert_exporter": "python",
   "pygments_lexer": "ipython3",
   "version": "3.5.3"
  }
 },
 "nbformat": 4,
 "nbformat_minor": 2
}
